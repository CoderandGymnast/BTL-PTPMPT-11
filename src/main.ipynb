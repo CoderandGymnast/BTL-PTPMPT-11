{
 "cells": [
  {
   "cell_type": "code",
   "execution_count": 2,
   "id": "c8b95453",
   "metadata": {},
   "outputs": [],
   "source": [
    "from pyspark.sql import SparkSession\n",
    "from pyspark.conf import SparkConf"
   ]
  },
  {
   "cell_type": "code",
   "execution_count": 5,
   "id": "c38115df",
   "metadata": {},
   "outputs": [],
   "source": [
    "MASTER_IP_ADDRESS=\"spark://192.168.140.136:7077\"\n",
    "APP_NAME=\"recommender\""
   ]
  },
  {
   "cell_type": "markdown",
   "id": "66a76ad3",
   "metadata": {},
   "source": [
    "# Init:\n",
    "## I. TODO: \n",
    ".config(\"spark.cores.max\",\"4\")\\\n",
    ".config(\"spark.executor.cores\", \"2\")\\"
   ]
  },
  {
   "cell_type": "code",
   "execution_count": 11,
   "id": "31f5000f",
   "metadata": {},
   "outputs": [],
   "source": [
    "spark=SparkSession.builder\\\n",
    ".master(MASTER_IP_ADDRESS)\\\n",
    ".appName(APP_NAME)\\\n",
    ".getOrCreate()"
   ]
  },
  {
   "cell_type": "code",
   "execution_count": 19,
   "id": "08664ec2",
   "metadata": {},
   "outputs": [],
   "source": [
    "sc=spark.sparkContext"
   ]
  },
  {
   "cell_type": "code",
   "execution_count": 17,
   "id": "1d7eab1a",
   "metadata": {},
   "outputs": [
    {
     "data": {
      "text/html": [
       "\n",
       "            <div>\n",
       "                <p><b>SparkSession - in-memory</b></p>\n",
       "                \n",
       "        <div>\n",
       "            <p><b>SparkContext</b></p>\n",
       "\n",
       "            <p><a href=\"http://192.168.140.136:4040\">Spark UI</a></p>\n",
       "\n",
       "            <dl>\n",
       "              <dt>Version</dt>\n",
       "                <dd><code>v3.2.0</code></dd>\n",
       "              <dt>Master</dt>\n",
       "                <dd><code>spark://192.168.140.136:7077</code></dd>\n",
       "              <dt>AppName</dt>\n",
       "                <dd><code>recommender</code></dd>\n",
       "            </dl>\n",
       "        </div>\n",
       "        \n",
       "            </div>\n",
       "        "
      ],
      "text/plain": [
       "<pyspark.sql.session.SparkSession at 0x7fe63c607910>"
      ]
     },
     "execution_count": 17,
     "metadata": {},
     "output_type": "execute_result"
    }
   ],
   "source": [
    "spark"
   ]
  },
  {
   "cell_type": "markdown",
   "id": "c0fe5857",
   "metadata": {},
   "source": [
    "# II. Samples: "
   ]
  },
  {
   "cell_type": "code",
   "execution_count": 75,
   "id": "f641151a",
   "metadata": {},
   "outputs": [
    {
     "data": {
      "text/plain": [
       "[1, 2, 3]"
      ]
     },
     "execution_count": 75,
     "metadata": {},
     "output_type": "execute_result"
    }
   ],
   "source": [
    "ds = range(1,4)\n",
    "rdd = sc.parallelize(ds)\n",
    "# rdd=rdd.map(lambda x: (x, \"a\" * x))\n",
    "rdd.collect()"
   ]
  },
  {
   "cell_type": "code",
   "execution_count": 77,
   "id": "bb64c816",
   "metadata": {},
   "outputs": [],
   "source": [
    "# PATH_DS=\"file:///...\"\n",
    "PATH_DS=\"../ds\"\n",
    "rdd.saveAsTextFile(PATH_DS)"
   ]
  },
  {
   "cell_type": "code",
   "execution_count": 92,
   "id": "b20331b8",
   "metadata": {},
   "outputs": [
    {
     "data": {
      "text/plain": [
       "['2', '3', '1']"
      ]
     },
     "execution_count": 92,
     "metadata": {},
     "output_type": "execute_result"
    }
   ],
   "source": [
    "read_rdd = sc.textFile(PATH_DS)\n",
    "read_rdd.collect()"
   ]
  },
  {
   "cell_type": "code",
   "execution_count": 93,
   "id": "4d695f93",
   "metadata": {},
   "outputs": [
    {
     "data": {
      "text/plain": [
       "[2, 4, 6]"
      ]
     },
     "execution_count": 93,
     "metadata": {},
     "output_type": "execute_result"
    }
   ],
   "source": [
    "read_rdd=read_rdd.map(lambda x: int(x)*2)\n",
    "sorted(read_rdd.collect())"
   ]
  },
  {
   "cell_type": "code",
   "execution_count": 91,
   "id": "9852ae1f",
   "metadata": {},
   "outputs": [
    {
     "data": {
      "text/plain": [
       "PythonRDD[129] at collect at /tmp/ipykernel_6870/973045085.py:1"
      ]
     },
     "execution_count": 91,
     "metadata": {},
     "output_type": "execute_result"
    }
   ],
   "source": [
    "read_rdd.persist()"
   ]
  }
 ],
 "metadata": {
  "kernelspec": {
   "display_name": "Python 3 (ipykernel)",
   "language": "python",
   "name": "python3"
  },
  "language_info": {
   "codemirror_mode": {
    "name": "ipython",
    "version": 3
   },
   "file_extension": ".py",
   "mimetype": "text/x-python",
   "name": "python",
   "nbconvert_exporter": "python",
   "pygments_lexer": "ipython3",
   "version": "3.8.10"
  }
 },
 "nbformat": 4,
 "nbformat_minor": 5
}
